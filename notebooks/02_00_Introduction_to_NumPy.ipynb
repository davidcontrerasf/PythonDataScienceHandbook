{
  "cells": [
    {
      "cell_type": "markdown",
      "metadata": {
        "id": "view-in-github",
        "colab_type": "text"
      },
      "source": [
        "<a href=\"https://colab.research.google.com/github/davidcontrerasf/PythonDataScienceHandbook/blob/main/notebooks/02_00_Introduction_to_NumPy.ipynb\" target=\"_parent\"><img src=\"https://colab.research.google.com/assets/colab-badge.svg\" alt=\"Open In Colab\"/></a>"
      ]
    },
    {
      "cell_type": "markdown",
      "metadata": {
        "deletable": true,
        "editable": true,
        "id": "8MsQaCOYpsFZ"
      },
      "source": [
        "# Introducción a NumPy"
      ]
    },
    {
      "cell_type": "markdown",
      "metadata": {
        "deletable": true,
        "editable": true,
        "id": "VR6C05k9psFZ"
      },
      "source": [
        "Este capítulo, junto con el capítulo 3, describe técnicas para cargar, almacenar y manipular datos en memoria de manera efectiva en Python.  \n",
        "El tema es muy amplio: los conjuntos de datos pueden provenir de una amplia variedad de fuentes y formatos, que incluyen colecciones de documentos, colecciones de imágenes, colecciones de clips de sonido, colecciones de mediciones numéricas o prácticamente cualquier otra cosa.  \n",
        "A pesar de esta aparente heterogeneidad, nos ayudará pensar en todos los datos fundamentalmente como arreglos de números.\n",
        "\n",
        "Por ejemplo, las imágenes—particularmente las imágenes digitales—se pueden considerar simplemente como arreglos bidimensionales de números que representan el brillo de los píxeles en el área.  \n",
        "Los clips de sonido se pueden considerar como arreglos unidimensionales de intensidad frente al tiempo.  \n",
        "El texto se puede convertir de diversas maneras en representaciones numéricas, tal vez en dígitos binarios que representan la frecuencia de ciertas palabras o pares de palabras.  \n",
        "No importa de qué sean los datos, el primer paso para hacerlos analizables será transformarlos en arreglos de números.  \n",
        "(Hablaremos de algunos ejemplos específicos de este proceso más adelante en [Ingeniería de Características](05.04-Feature-Engineering.ipynb)).\n",
        "\n",
        "Por esta razón, el almacenamiento y la manipulación eficiente de arreglos numéricos es absolutamente fundamental para el proceso de hacer ciencia de datos.  \n",
        "Ahora veremos las herramientas especializadas que Python tiene para manejar tales arreglos numéricos: el paquete NumPy y el paquete Pandas (discutido en el Capítulo 3).\n",
        "\n",
        "Este capítulo cubrirá NumPy en detalle. NumPy (abreviatura de *Numerical Python*) proporciona una interfaz eficiente para almacenar y operar sobre búferes de datos densos.  \n",
        "De alguna manera, los arreglos de NumPy son como el tipo de lista integrado de Python, pero los arreglos de NumPy proporcionan un almacenamiento y operaciones de datos mucho más eficientes a medida que los arreglos crecen en tamaño.  \n",
        "Los arreglos de NumPy son el núcleo de casi todo el ecosistema de herramientas de ciencia de datos en Python, por lo que el tiempo invertido en aprender a usar NumPy de manera efectiva será valioso sin importar qué aspecto de la ciencia de datos te interese.\n",
        "\n",
        "Si seguiste el consejo del Prefacio e instalaste el paquete Anaconda, ya tienes NumPy instalado y listo para usar.  \n",
        "Si prefieres hacerlo por ti mismo, puedes ir a http://www.numpy.org/ y seguir las instrucciones de instalación que encontrarás allí.  \n",
        "Una vez lo hagas, puedes importar NumPy y verificar la versión."
      ]
    },
    {
      "cell_type": "code",
      "execution_count": 1,
      "metadata": {
        "deletable": true,
        "editable": true,
        "colab": {
          "base_uri": "https://localhost:8080/",
          "height": 35
        },
        "id": "fFjsHPytpsFa",
        "outputId": "e98c78dc-01ec-4cfe-84a7-e25add247a49"
      },
      "outputs": [
        {
          "output_type": "execute_result",
          "data": {
            "text/plain": [
              "'1.26.4'"
            ],
            "application/vnd.google.colaboratory.intrinsic+json": {
              "type": "string"
            }
          },
          "metadata": {},
          "execution_count": 1
        }
      ],
      "source": [
        "import numpy\n",
        "numpy.__version__"
      ]
    },
    {
      "cell_type": "code",
      "execution_count": 2,
      "metadata": {
        "deletable": true,
        "editable": true,
        "id": "lyXkHgLapsFb"
      },
      "outputs": [],
      "source": [
        "import numpy as np"
      ]
    },
    {
      "cell_type": "markdown",
      "metadata": {
        "deletable": true,
        "editable": true,
        "id": "kVmYbbEhpsFb"
      },
      "source": [
        "Throughout this chapter, and indeed the rest of the book, you'll find that this is the way we will import and use NumPy."
      ]
    }
  ],
  "metadata": {
    "anaconda-cloud": {},
    "kernelspec": {
      "display_name": "Python 3",
      "language": "python",
      "name": "python3"
    },
    "language_info": {
      "codemirror_mode": {
        "name": "ipython",
        "version": 3
      },
      "file_extension": ".py",
      "mimetype": "text/x-python",
      "name": "python",
      "nbconvert_exporter": "python",
      "pygments_lexer": "ipython3",
      "version": "3.5.1"
    },
    "colab": {
      "provenance": [],
      "include_colab_link": true
    }
  },
  "nbformat": 4,
  "nbformat_minor": 0
}